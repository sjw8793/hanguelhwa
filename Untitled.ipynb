{
 "cells": [
  {
   "cell_type": "code",
   "execution_count": 1,
   "id": "5dd1dc4c",
   "metadata": {},
   "outputs": [],
   "source": [
    "import os\n",
    "import json\n",
    "import openai\n",
    "import translate\n",
    "import pandas as pd\n",
    "from nltk.tokenize import TreebankWordTokenizer\n",
    "from nltk.tokenize.treebank import TreebankWordDetokenizer"
   ]
  },
  {
   "cell_type": "markdown",
   "id": "79ddc9e6",
   "metadata": {},
   "source": [
    "### 훈련용 데이터 읽어들이기"
   ]
  },
  {
   "cell_type": "code",
   "execution_count": null,
   "id": "c42ac97f",
   "metadata": {},
   "outputs": [],
   "source": [
    "dffolk = pd.read_json('./trainData/ko2ja/ko2ja_folk_1_training.json')\n",
    "\n",
    "dffolk.head()"
   ]
  },
  {
   "cell_type": "code",
   "execution_count": null,
   "id": "14df79dc",
   "metadata": {},
   "outputs": [],
   "source": [
    "folk = dffolk.drop([\"관리번호\",\"출처\",\"분야\",\"출처\",\"수행기관\"], axis=1)\n",
    "folk.tail()"
   ]
  },
  {
   "cell_type": "markdown",
   "id": "d05fcc3e",
   "metadata": {},
   "source": [
    "### 번역 성능 확인"
   ]
  },
  {
   "cell_type": "code",
   "execution_count": 7,
   "id": "2a598076",
   "metadata": {},
   "outputs": [
    {
     "name": "stdout",
     "output_type": "stream",
     "text": [
      "야, 그들이 싸움을 포기하고 있어! 그들이 물러서고 있어!\n"
     ]
    }
   ],
   "source": [
    "dd_intro = \"\"\"Hey, they're giving up the fight!\n",
    "They're falling back!\"\"\"\n",
    "\n",
    "result = translate.aiTrans(dd_intro)\n",
    "print(result)"
   ]
  }
 ],
 "metadata": {
  "kernelspec": {
   "display_name": "Python 3 (ipykernel)",
   "language": "python",
   "name": "python3"
  },
  "language_info": {
   "codemirror_mode": {
    "name": "ipython",
    "version": 3
   },
   "file_extension": ".py",
   "mimetype": "text/x-python",
   "name": "python",
   "nbconvert_exporter": "python",
   "pygments_lexer": "ipython3",
   "version": "3.10.4"
  },
  "vscode": {
   "interpreter": {
    "hash": "394f05b12196f77cad8487bd27e8237b5b19603d27277c0605b230ff77a22acf"
   }
  }
 },
 "nbformat": 4,
 "nbformat_minor": 5
}
